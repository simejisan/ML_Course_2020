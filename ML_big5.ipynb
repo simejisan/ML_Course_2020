{
  "nbformat": 4,
  "nbformat_minor": 0,
  "metadata": {
    "colab": {
      "name": "Untitled0.ipynb",
      "provenance": [],
      "collapsed_sections": [],
      "authorship_tag": "ABX9TyNlsHqMA4NhY43tMZtv5Gnr",
      "include_colab_link": true
    },
    "kernelspec": {
      "name": "python3",
      "display_name": "Python 3"
    }
  },
  "cells": [
    {
      "cell_type": "markdown",
      "metadata": {
        "id": "view-in-github",
        "colab_type": "text"
      },
      "source": [
        "<a href=\"https://colab.research.google.com/github/simejisan/UET-Code-Camp/blob/master/ML_big5.ipynb\" target=\"_parent\"><img src=\"https://colab.research.google.com/assets/colab-badge.svg\" alt=\"Open In Colab\"/></a>"
      ]
    },
    {
      "cell_type": "code",
      "metadata": {
        "id": "HdDVN3TvFomm",
        "colab_type": "code",
        "outputId": "da2c141b-94ec-4d2e-993d-ce7b54e86a30",
        "colab": {
          "base_uri": "https://localhost:8080/",
          "height": 34
        }
      },
      "source": [
        "!pip install -q yfinance"
      ],
      "execution_count": 0,
      "outputs": [
        {
          "output_type": "stream",
          "text": [
            "  Building wheel for yfinance (setup.py) ... \u001b[?25l\u001b[?25hdone\n"
          ],
          "name": "stdout"
        }
      ]
    },
    {
      "cell_type": "code",
      "metadata": {
        "id": "j0Xuddt4D7xb",
        "colab_type": "code",
        "outputId": "a7fc95aa-c0a0-4ea6-f200-1b7212ae8d1d",
        "colab": {
          "base_uri": "https://localhost:8080/",
          "height": 72
        }
      },
      "source": [
        "import numpy as np\n",
        "import pandas as pd\n",
        "import datetime\n",
        "\n",
        "%matplotlib inline\n",
        "import matplotlib.pyplot as plt\n",
        "import matplotlib.dates as mdates\n",
        "import seaborn as sns\n",
        "\n",
        "plt.style.use('seaborn-darkgrid')\n",
        "plt.rc('figure', figsize=(16,10))\n",
        "plt.rc('lines', markersize=4)\n",
        "\n",
        "import yfinance as yf\n",
        "\n",
        "from sklearn.linear_model import LinearRegression\n",
        "from numpy import cov"
      ],
      "execution_count": 0,
      "outputs": [
        {
          "output_type": "stream",
          "text": [
            "/usr/local/lib/python3.6/dist-packages/statsmodels/tools/_testing.py:19: FutureWarning: pandas.util.testing is deprecated. Use the functions in the public API at pandas.testing instead.\n",
            "  import pandas.util.testing as tm\n"
          ],
          "name": "stderr"
        }
      ]
    },
    {
      "cell_type": "code",
      "metadata": {
        "id": "6h08fppeF0H6",
        "colab_type": "code",
        "outputId": "4fabc97f-1c80-4192-f8e0-edfc71d9ec42",
        "colab": {
          "base_uri": "https://localhost:8080/",
          "height": 247
        }
      },
      "source": [
        "# Get the data of the Apple stock (code AAPL)\n",
        "data = yf.download('AAPL','2019-01-01','2020-04-30')\n",
        "data.head()\n"
      ],
      "execution_count": 0,
      "outputs": [
        {
          "output_type": "stream",
          "text": [
            "\r[*********************100%***********************]  1 of 1 completed\n"
          ],
          "name": "stdout"
        },
        {
          "output_type": "execute_result",
          "data": {
            "text/html": [
              "<div>\n",
              "<style scoped>\n",
              "    .dataframe tbody tr th:only-of-type {\n",
              "        vertical-align: middle;\n",
              "    }\n",
              "\n",
              "    .dataframe tbody tr th {\n",
              "        vertical-align: top;\n",
              "    }\n",
              "\n",
              "    .dataframe thead th {\n",
              "        text-align: right;\n",
              "    }\n",
              "</style>\n",
              "<table border=\"1\" class=\"dataframe\">\n",
              "  <thead>\n",
              "    <tr style=\"text-align: right;\">\n",
              "      <th></th>\n",
              "      <th>Open</th>\n",
              "      <th>High</th>\n",
              "      <th>Low</th>\n",
              "      <th>Close</th>\n",
              "      <th>Adj Close</th>\n",
              "      <th>Volume</th>\n",
              "    </tr>\n",
              "    <tr>\n",
              "      <th>Date</th>\n",
              "      <th></th>\n",
              "      <th></th>\n",
              "      <th></th>\n",
              "      <th></th>\n",
              "      <th></th>\n",
              "      <th></th>\n",
              "    </tr>\n",
              "  </thead>\n",
              "  <tbody>\n",
              "    <tr>\n",
              "      <th>2019-01-02</th>\n",
              "      <td>154.889999</td>\n",
              "      <td>158.850006</td>\n",
              "      <td>154.229996</td>\n",
              "      <td>157.919998</td>\n",
              "      <td>154.794983</td>\n",
              "      <td>37039700</td>\n",
              "    </tr>\n",
              "    <tr>\n",
              "      <th>2019-01-03</th>\n",
              "      <td>143.979996</td>\n",
              "      <td>145.720001</td>\n",
              "      <td>142.000000</td>\n",
              "      <td>142.190002</td>\n",
              "      <td>139.376251</td>\n",
              "      <td>91312200</td>\n",
              "    </tr>\n",
              "    <tr>\n",
              "      <th>2019-01-04</th>\n",
              "      <td>144.529999</td>\n",
              "      <td>148.550003</td>\n",
              "      <td>143.800003</td>\n",
              "      <td>148.259995</td>\n",
              "      <td>145.326126</td>\n",
              "      <td>58607100</td>\n",
              "    </tr>\n",
              "    <tr>\n",
              "      <th>2019-01-07</th>\n",
              "      <td>148.699997</td>\n",
              "      <td>148.830002</td>\n",
              "      <td>145.899994</td>\n",
              "      <td>147.929993</td>\n",
              "      <td>145.002686</td>\n",
              "      <td>54777800</td>\n",
              "    </tr>\n",
              "    <tr>\n",
              "      <th>2019-01-08</th>\n",
              "      <td>149.559998</td>\n",
              "      <td>151.820007</td>\n",
              "      <td>148.520004</td>\n",
              "      <td>150.750000</td>\n",
              "      <td>147.766861</td>\n",
              "      <td>41025300</td>\n",
              "    </tr>\n",
              "  </tbody>\n",
              "</table>\n",
              "</div>"
            ],
            "text/plain": [
              "                  Open        High  ...   Adj Close    Volume\n",
              "Date                                ...                      \n",
              "2019-01-02  154.889999  158.850006  ...  154.794983  37039700\n",
              "2019-01-03  143.979996  145.720001  ...  139.376251  91312200\n",
              "2019-01-04  144.529999  148.550003  ...  145.326126  58607100\n",
              "2019-01-07  148.699997  148.830002  ...  145.002686  54777800\n",
              "2019-01-08  149.559998  151.820007  ...  147.766861  41025300\n",
              "\n",
              "[5 rows x 6 columns]"
            ]
          },
          "metadata": {
            "tags": []
          },
          "execution_count": 4
        }
      ]
    },
    {
      "cell_type": "code",
      "metadata": {
        "id": "3g9wrLDrGQfU",
        "colab_type": "code",
        "outputId": "2fd00e88-c382-42e6-b58a-1244e816c241",
        "colab": {
          "base_uri": "https://localhost:8080/",
          "height": 34
        }
      },
      "source": [
        "df = pd.DataFrame(data, columns=['Close'])\n",
        "df = df.reset_index()\n",
        "df.isna().values.any() # check for NaN"
      ],
      "execution_count": 0,
      "outputs": [
        {
          "output_type": "execute_result",
          "data": {
            "text/plain": [
              "False"
            ]
          },
          "metadata": {
            "tags": []
          },
          "execution_count": 5
        }
      ]
    },
    {
      "cell_type": "code",
      "metadata": {
        "id": "qOpVi2N8GXFO",
        "colab_type": "code",
        "outputId": "80b4f0b2-a763-42c9-99ae-aba1cec869a2",
        "colab": {
          "base_uri": "https://localhost:8080/",
          "height": 587
        }
      },
      "source": [
        "# Import matplotlib package for date plots\n",
        "\n",
        "months = mdates.MonthLocator() # Get every year\n",
        "dateFmt = mdates.DateFormatter('%Y-%m') # Set year format\n",
        "\n",
        "# Create subplots to plot graph and control axes\n",
        "fig, ax = plt.subplots()\n",
        "ax.plot(df['Date'], df['Close'])\n",
        "\n",
        "# Format the ticks\n",
        "ax.xaxis.set_major_locator(months)\n",
        "ax.xaxis.set_major_formatter(dateFmt)\n",
        "\n",
        "# Set figure title\n",
        "plt.title('Apple Close Stock Price History [2019 - 2020]', fontsize=16)\n",
        "# Set x label\n",
        "plt.xlabel('Date', fontsize=14)\n",
        "# Set y label\n",
        "plt.ylabel('Closing Stock Price in $', fontsize=14)\n",
        "\n",
        "# Rotate and align the x labels\n",
        "fig.autofmt_xdate()\n",
        "\n",
        "# Show plot\n",
        "plt.show()"
      ],
      "execution_count": 0,
      "outputs": [
        {
          "output_type": "display_data",
          "data": {
            "image/png": "[encoded data removed]",
            "text/plain": [
              "<Figure size 1152x720 with 1 Axes>"
            ]
          },
          "metadata": {
            "tags": []
          }
        }
      ]
    },
    {
      "cell_type": "code",
      "metadata": {
        "id": "Bve4GXKkGei-",
        "colab_type": "code",
        "outputId": "655d69f0-ceec-4858-be6b-2a71cb5b9723",
        "colab": {
          "base_uri": "https://localhost:8080/",
          "height": 105
        }
      },
      "source": [
        "def get_close_stock_price(codes, start_date='2019-01-01', end_date='2020-04-30'):\n",
        "    data = { code : yf.download(code, start_date, end_date) for code in codes }\n",
        "    data = { key : pd.DataFrame(value, columns=['Close']).rename(columns={'Close': f'{key}'}) for key, value in data.items() }\n",
        "    df = None\n",
        "    for key, value in data.items():\n",
        "        if df is None:\n",
        "            df = value\n",
        "        else:\n",
        "            df = df.merge(value, left_index=True, right_index=True)\n",
        "    return df\n",
        "\n",
        "df = get_close_stock_price(['AAPL', 'GOOGL', 'MSFT', 'AMZN', 'FB'])\n",
        "df.to_csv('sample_data/close_price_big_5.csv')"
      ],
      "execution_count": 0,
      "outputs": [
        {
          "output_type": "stream",
          "text": [
            "[*********************100%***********************]  1 of 1 completed\n",
            "[*********************100%***********************]  1 of 1 completed\n",
            "[*********************100%***********************]  1 of 1 completed\n",
            "[*********************100%***********************]  1 of 1 completed\n",
            "[*********************100%***********************]  1 of 1 completed\n"
          ],
          "name": "stdout"
        }
      ]
    },
    {
      "cell_type": "code",
      "metadata": {
        "id": "w7mFGBrmGq2j",
        "colab_type": "code",
        "outputId": "49f1f604-448d-4b0b-9328-839f47b2c07b",
        "colab": {
          "base_uri": "https://localhost:8080/",
          "height": 230
        }
      },
      "source": [
        "df = pd.read_csv('sample_data/close_price_big_5.csv', index_col=['Date'], infer_datetime_format=True, parse_dates=['Date'])\n",
        "df.head()"
      ],
      "execution_count": 0,
      "outputs": [
        {
          "output_type": "execute_result",
          "data": {
            "text/html": [
              "<div>\n",
              "<style scoped>\n",
              "    .dataframe tbody tr th:only-of-type {\n",
              "        vertical-align: middle;\n",
              "    }\n",
              "\n",
              "    .dataframe tbody tr th {\n",
              "        vertical-align: top;\n",
              "    }\n",
              "\n",
              "    .dataframe thead th {\n",
              "        text-align: right;\n",
              "    }\n",
              "</style>\n",
              "<table border=\"1\" class=\"dataframe\">\n",
              "  <thead>\n",
              "    <tr style=\"text-align: right;\">\n",
              "      <th></th>\n",
              "      <th>AAPL</th>\n",
              "      <th>GOOGL</th>\n",
              "      <th>MSFT</th>\n",
              "      <th>AMZN</th>\n",
              "      <th>FB</th>\n",
              "    </tr>\n",
              "    <tr>\n",
              "      <th>Date</th>\n",
              "      <th></th>\n",
              "      <th></th>\n",
              "      <th></th>\n",
              "      <th></th>\n",
              "      <th></th>\n",
              "    </tr>\n",
              "  </thead>\n",
              "  <tbody>\n",
              "    <tr>\n",
              "      <th>2019-01-02</th>\n",
              "      <td>157.919998</td>\n",
              "      <td>1054.680054</td>\n",
              "      <td>101.120003</td>\n",
              "      <td>1539.130005</td>\n",
              "      <td>135.679993</td>\n",
              "    </tr>\n",
              "    <tr>\n",
              "      <th>2019-01-03</th>\n",
              "      <td>142.190002</td>\n",
              "      <td>1025.469971</td>\n",
              "      <td>97.400002</td>\n",
              "      <td>1500.280029</td>\n",
              "      <td>131.740005</td>\n",
              "    </tr>\n",
              "    <tr>\n",
              "      <th>2019-01-04</th>\n",
              "      <td>148.259995</td>\n",
              "      <td>1078.069946</td>\n",
              "      <td>101.930000</td>\n",
              "      <td>1575.390015</td>\n",
              "      <td>137.949997</td>\n",
              "    </tr>\n",
              "    <tr>\n",
              "      <th>2019-01-07</th>\n",
              "      <td>147.929993</td>\n",
              "      <td>1075.920044</td>\n",
              "      <td>102.059998</td>\n",
              "      <td>1629.510010</td>\n",
              "      <td>138.050003</td>\n",
              "    </tr>\n",
              "    <tr>\n",
              "      <th>2019-01-08</th>\n",
              "      <td>150.750000</td>\n",
              "      <td>1085.369995</td>\n",
              "      <td>102.800003</td>\n",
              "      <td>1656.579956</td>\n",
              "      <td>142.529999</td>\n",
              "    </tr>\n",
              "  </tbody>\n",
              "</table>\n",
              "</div>"
            ],
            "text/plain": [
              "                  AAPL        GOOGL        MSFT         AMZN          FB\n",
              "Date                                                                    \n",
              "2019-01-02  157.919998  1054.680054  101.120003  1539.130005  135.679993\n",
              "2019-01-03  142.190002  1025.469971   97.400002  1500.280029  131.740005\n",
              "2019-01-04  148.259995  1078.069946  101.930000  1575.390015  137.949997\n",
              "2019-01-07  147.929993  1075.920044  102.059998  1629.510010  138.050003\n",
              "2019-01-08  150.750000  1085.369995  102.800003  1656.579956  142.529999"
            ]
          },
          "metadata": {
            "tags": []
          },
          "execution_count": 8
        }
      ]
    },
    {
      "cell_type": "code",
      "metadata": {
        "id": "6S48W2DSHUXQ",
        "colab_type": "code",
        "outputId": "6471617f-e2ab-4449-f59f-590782a2565b",
        "colab": {
          "base_uri": "https://localhost:8080/",
          "height": 157
        }
      },
      "source": [
        "df.index\n"
      ],
      "execution_count": 0,
      "outputs": [
        {
          "output_type": "execute_result",
          "data": {
            "text/plain": [
              "DatetimeIndex(['2019-01-02', '2019-01-03', '2019-01-04', '2019-01-07',\n",
              "               '2019-01-08', '2019-01-09', '2019-01-10', '2019-01-11',\n",
              "               '2019-01-14', '2019-01-15',\n",
              "               ...\n",
              "               '2020-04-16', '2020-04-17', '2020-04-20', '2020-04-21',\n",
              "               '2020-04-22', '2020-04-23', '2020-04-24', '2020-04-27',\n",
              "               '2020-04-28', '2020-04-29'],\n",
              "              dtype='datetime64[ns]', name='Date', length=334, freq=None)"
            ]
          },
          "metadata": {
            "tags": []
          },
          "execution_count": 9
        }
      ]
    },
    {
      "cell_type": "code",
      "metadata": {
        "id": "KWL3o5SxHXc-",
        "colab_type": "code",
        "colab": {}
      },
      "source": [
        "df_plot = df.reset_index().melt('Date', var_name='cols',  value_name='vals')\n",
        "df_plot.isna().values.any()"
      ],
      "execution_count": 0,
      "outputs": []
    },
    {
      "cell_type": "code",
      "metadata": {
        "id": "9KVAHJsCHaCp",
        "colab_type": "code",
        "colab": {}
      },
      "source": [
        "# Create subplots to plot graph and control axes\n",
        "fig, ax = plt.subplots(figsize=(16,10))\n",
        "sns.lineplot(x=\"Date\", y=\"vals\", hue='cols', data=df_plot)\n",
        "\n",
        "# Format the ticks\n",
        "loc = mdates.AutoDateLocator()\n",
        "ax.xaxis.set_major_locator(loc)\n",
        "ax.xaxis.set_major_formatter(mdates.AutoDateFormatter(loc))\n",
        "\n",
        "# Set figure title\n",
        "plt.title('Big 5 Companies Close Stock Price History [2019 - 2020]', fontsize=16)\n",
        "# Set x label\n",
        "plt.xlabel('Date', fontsize=14)\n",
        "# Set y label\n",
        "plt.ylabel('Closing Stock Price in $', fontsize=14)\n",
        "\n",
        "# Rotate and align the x labels\n",
        "fig.autofmt_xdate()\n",
        "\n",
        "# Show plot\n",
        "plt.show()"
      ],
      "execution_count": 0,
      "outputs": []
    },
    {
      "cell_type": "code",
      "metadata": {
        "id": "pAokofsoHmz_",
        "colab_type": "code",
        "colab": {}
      },
      "source": [
        "def get_feature(raw_df):\n",
        "  return raw_df.values.reshape(-1)\n",
        "def create_Xy(df, history=1):\n",
        "    '''df has index as date\n",
        "    columns are stock price of the companies\n",
        "    '''\n",
        "    X, y, dates = [], [], []\n",
        "    for row_idx in range(history, len(df)):\n",
        "        y.append( df.iloc[row_idx,:].values.reshape(-1) )#get Y\n",
        "        X.append( get_feature(df.iloc[row_idx-history:row_idx,:]) )\n",
        "        #X.append( df.iloc[row_idx-history:row_idx,:].values.reshape(-1) )\n",
        "        dates.append(df.index[row_idx])\n",
        "    X, y = np.array(X), np.array(y)\n",
        "    return X, y, dates\n",
        "\n",
        "X,y,dates = create_Xy(df, history=5)\n",
        "# use 7/10 of the dataset to train (use past price to predict future price)\n",
        "n_train = len(y) * 7 // 10\n",
        "X_train, y_train, dates_train, X_test, y_test, dates_test = X[:n_train], y[:n_train], dates[:n_train], X[n_train:], y[n_train:], dates[n_train:]"
      ],
      "execution_count": 0,
      "outputs": []
    },
    {
      "cell_type": "code",
      "metadata": {
        "id": "lkL5DmCgIDwh",
        "colab_type": "code",
        "colab": {}
      },
      "source": [
        "clf = LinearRegression()\n",
        "clf.fit(X_train, y_train)\n",
        "ypred = clf.predict(X_test)"
      ],
      "execution_count": 0,
      "outputs": []
    },
    {
      "cell_type": "code",
      "metadata": {
        "id": "d3JLl61_IITl",
        "colab_type": "code",
        "colab": {}
      },
      "source": [
        "df_plot = pd.DataFrame({\"AAPL_true\": y_test[:,0], 'AAPL_pred': ypred[:,0]}, index=dates_test)\n",
        "\n",
        "# Create subplots to plot graph and control axes\n",
        "fig, ax = plt.subplots(figsize=(16,10))\n",
        "sns.lineplot(data=df_plot)\n",
        "\n",
        "# Format the ticks\n",
        "loc = mdates.AutoDateLocator()\n",
        "ax.xaxis.set_major_locator(loc)\n",
        "ax.xaxis.set_major_formatter(mdates.AutoDateFormatter(loc))\n",
        "\n",
        "# Set figure title\n",
        "plt.title('Apple stock price: True vs. Prediction', fontsize=16)\n",
        "# Set x label\n",
        "plt.xlabel('Date', fontsize=14)\n",
        "# Set y label\n",
        "plt.ylabel('Closing Stock Price in $', fontsize=14)\n",
        "\n",
        "# Rotate and align the x labels\n",
        "fig.autofmt_xdate()\n",
        "\n",
        "# Show plot\n",
        "plt.show()\n"
      ],
      "execution_count": 0,
      "outputs": []
    },
    {
      "cell_type": "code",
      "metadata": {
        "id": "0GuNMiBUUpE3",
        "colab_type": "code",
        "colab": {}
      },
      "source": [
        "df_plot = pd.DataFrame({\"FB_true\": y_test[:,4], 'FB_pred': ypred[:,4]}, index=dates_test)\n",
        "\n",
        "# Create subplots to plot graph and control axes\n",
        "fig, ax = plt.subplots(figsize=(16,10))\n",
        "sns.lineplot(data=df_plot)\n",
        "\n",
        "# Format the ticks\n",
        "loc = mdates.AutoDateLocator()\n",
        "ax.xaxis.set_major_locator(loc)\n",
        "ax.xaxis.set_major_formatter(mdates.AutoDateFormatter(loc))\n",
        "\n",
        "# Set figure title\n",
        "plt.title('Facebook stock price: True vs. Prediction', fontsize=16)\n",
        "# Set x label\n",
        "plt.xlabel('Date', fontsize=14)\n",
        "# Set y label\n",
        "plt.ylabel('Closing Stock Price in $', fontsize=14)\n",
        "\n",
        "# Rotate and align the x labels\n",
        "fig.autofmt_xdate()\n",
        "\n",
        "# Show plot\n",
        "plt.show()"
      ],
      "execution_count": 0,
      "outputs": []
    },
    {
      "cell_type": "code",
      "metadata": {
        "id": "Qb83zUdZcTA0",
        "colab_type": "code",
        "colab": {}
      },
      "source": [
        "df_plot = pd.DataFrame({\"AMZN_true\": y_test[:,3], 'AMZN_pred': ypred[:,3]}, index=dates_test)\n",
        "\n",
        "# Create subplots to plot graph and control axes\n",
        "fig, ax = plt.subplots(figsize=(16,10))\n",
        "sns.lineplot(data=df_plot)\n",
        "\n",
        "# Format the ticks\n",
        "loc = mdates.AutoDateLocator()\n",
        "ax.xaxis.set_major_locator(loc)\n",
        "ax.xaxis.set_major_formatter(mdates.AutoDateFormatter(loc))\n",
        "\n",
        "# Set figure title\n",
        "plt.title('Amazon stock price: True vs. Prediction', fontsize=16)\n",
        "# Set x label\n",
        "plt.xlabel('Date', fontsize=14)\n",
        "# Set y label\n",
        "plt.ylabel('Closing Stock Price in $', fontsize=14)\n",
        "\n",
        "# Rotate and align the x labels\n",
        "fig.autofmt_xdate()\n",
        "\n",
        "# Show plot\n",
        "plt.show()"
      ],
      "execution_count": 0,
      "outputs": []
    },
    {
      "cell_type": "code",
      "metadata": {
        "id": "OJo9o8TpcfOr",
        "colab_type": "code",
        "colab": {}
      },
      "source": [
        "df_plot = pd.DataFrame({\"GOOGL_true\": y_test[:,1], 'GOOGL_pred': ypred[:,1]}, index=dates_test)\n",
        "\n",
        "# Create subplots to plot graph and control axes\n",
        "fig, ax = plt.subplots(figsize=(16,10))\n",
        "sns.lineplot(data=df_plot)\n",
        "\n",
        "# Format the ticks\n",
        "loc = mdates.AutoDateLocator()\n",
        "ax.xaxis.set_major_locator(loc)\n",
        "ax.xaxis.set_major_formatter(mdates.AutoDateFormatter(loc))\n",
        "\n",
        "# Set figure title\n",
        "plt.title('Google stock price: True vs. Prediction', fontsize=16)\n",
        "# Set x label\n",
        "plt.xlabel('Date', fontsize=14)\n",
        "# Set y label\n",
        "plt.ylabel('Closing Stock Price in $', fontsize=14)\n",
        "\n",
        "# Rotate and align the x labels\n",
        "fig.autofmt_xdate()\n",
        "\n",
        "# Show plot\n",
        "plt.show()"
      ],
      "execution_count": 0,
      "outputs": []
    },
    {
      "cell_type": "code",
      "metadata": {
        "id": "HUWFS1uZcmlu",
        "colab_type": "code",
        "colab": {}
      },
      "source": [
        "df_plot = pd.DataFrame({\"MSFT_true\": y_test[:,2], 'MSFT_pred': ypred[:,2]}, index=dates_test)\n",
        "\n",
        "# Create subplots to plot graph and control axes\n",
        "fig, ax = plt.subplots(figsize=(16,10))\n",
        "sns.lineplot(data=df_plot)\n",
        "\n",
        "# Format the ticks\n",
        "loc = mdates.AutoDateLocator()\n",
        "ax.xaxis.set_major_locator(loc)\n",
        "ax.xaxis.set_major_formatter(mdates.AutoDateFormatter(loc))\n",
        "\n",
        "# Set figure title\n",
        "plt.title('Microsoft stock price: True vs. Prediction', fontsize=16)\n",
        "# Set x label\n",
        "plt.xlabel('Date', fontsize=14)\n",
        "# Set y label\n",
        "plt.ylabel('Closing Stock Price in $', fontsize=14)\n",
        "\n",
        "# Rotate and align the x labels\n",
        "fig.autofmt_xdate()\n",
        "\n",
        "# Show plot\n",
        "plt.show()"
      ],
      "execution_count": 0,
      "outputs": []
    },
    {
      "cell_type": "code",
      "metadata": {
        "id": "Up74_RlvYlTm",
        "colab_type": "code",
        "colab": {}
      },
      "source": [
        "from sklearn.metrics import mean_squared_error\n",
        "\n",
        "def mean_relative_error(y_true, y_pred):\n",
        "  return np.mean(np.abs((y_pred-y_true)/y_true))\n",
        "\n",
        "for i in range(5):\n",
        "  print(df.columns[i], mean_relative_error(y_test[:,1],ypred[:,1]) )\n",
        "\n",
        "\n"
      ],
      "execution_count": 0,
      "outputs": []
    }
  ]
}